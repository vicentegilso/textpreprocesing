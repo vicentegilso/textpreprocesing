{
  "nbformat": 4,
  "nbformat_minor": 0,
  "metadata": {
    "colab": {
      "name": "SKLearn Spam classification.ipynb",
      "provenance": [],
      "collapsed_sections": [],
      "include_colab_link": true
    },
    "kernelspec": {
      "name": "python3",
      "display_name": "Python 3"
    },
    "language_info": {
      "name": "python"
    }
  },
  "cells": [
    {
      "cell_type": "markdown",
      "metadata": {
        "id": "view-in-github",
        "colab_type": "text"
      },
      "source": [
        "<a href=\"https://colab.research.google.com/github/vicentegilso/textpreprocesing/blob/main/SKLearn_Spam_classification.ipynb\" target=\"_parent\"><img src=\"https://colab.research.google.com/assets/colab-badge.svg\" alt=\"Open In Colab\"/></a>"
      ]
    },
    {
      "cell_type": "markdown",
      "metadata": {
        "id": "26I252XV4Pr1"
      },
      "source": [
        "# SKLearn Spam Classification"
      ]
    },
    {
      "cell_type": "markdown",
      "metadata": {
        "id": "uTCrsvuX4SnU"
      },
      "source": [
        "## Download the ENRON Mail Dataset 📩\n",
        "\n",
        "For more information about the dataset check this [webapage](https://www.cs.cmu.edu/~enron/)"
      ]
    },
    {
      "cell_type": "code",
      "metadata": {
        "colab": {
          "base_uri": "https://localhost:8080/"
        },
        "id": "jVw_fMDl39AY",
        "outputId": "1c5cd840-7b4f-4004-dbbe-5fb9a56ceaa2"
      },
      "source": [
        "%%shell\n",
        "wget http://www.aueb.gr/users/ion/data/enron-spam/preprocessed/enron1.tar.gz\n",
        "tar -zxf enron1.tar.gz"
      ],
      "execution_count": null,
      "outputs": [
        {
          "output_type": "stream",
          "text": [
            "--2021-07-01 13:29:21--  http://www.aueb.gr/users/ion/data/enron-spam/preprocessed/enron1.tar.gz\n",
            "Resolving www.aueb.gr (www.aueb.gr)... 195.251.255.156\n",
            "Connecting to www.aueb.gr (www.aueb.gr)|195.251.255.156|:80... connected.\n",
            "HTTP request sent, awaiting response... 301 Moved Permanently\n",
            "Location: http://www2.aueb.gr/users/ion/data/enron-spam/preprocessed/enron1.tar.gz [following]\n",
            "--2021-07-01 13:29:22--  http://www2.aueb.gr/users/ion/data/enron-spam/preprocessed/enron1.tar.gz\n",
            "Resolving www2.aueb.gr (www2.aueb.gr)... 195.251.255.138\n",
            "Connecting to www2.aueb.gr (www2.aueb.gr)|195.251.255.138|:80... connected.\n",
            "HTTP request sent, awaiting response... 200 OK\n",
            "Length: 1802573 (1.7M) [application/x-gzip]\n",
            "Saving to: ‘enron1.tar.gz.1’\n",
            "\n",
            "enron1.tar.gz.1     100%[===================>]   1.72M  1.14MB/s    in 1.5s    \n",
            "\n",
            "2021-07-01 13:29:24 (1.14 MB/s) - ‘enron1.tar.gz.1’ saved [1802573/1802573]\n",
            "\n"
          ],
          "name": "stdout"
        },
        {
          "output_type": "execute_result",
          "data": {
            "text/plain": [
              ""
            ]
          },
          "metadata": {
            "tags": []
          },
          "execution_count": 1
        }
      ]
    },
    {
      "cell_type": "code",
      "metadata": {
        "id": "s4kkrpIc7Qy5"
      },
      "source": [
        "import random\n",
        "from pathlib import Path"
      ],
      "execution_count": null,
      "outputs": []
    },
    {
      "cell_type": "markdown",
      "metadata": {
        "id": "HmU8ArxS8dsn"
      },
      "source": [
        "## Read and visualize data samples 📖"
      ]
    },
    {
      "cell_type": "code",
      "metadata": {
        "id": "uTuqIMi_5ob7"
      },
      "source": [
        "data_path = Path('enron1')\n",
        "ham_path = data_path / 'ham'\n",
        "spam_path = data_path / 'spam'\n",
        "\n",
        "ham_files = list(ham_path.iterdir())\n",
        "spam_files = list(spam_path.iterdir())"
      ],
      "execution_count": null,
      "outputs": []
    },
    {
      "cell_type": "code",
      "metadata": {
        "colab": {
          "base_uri": "https://localhost:8080/"
        },
        "id": "OqDMwELcGGIF",
        "outputId": "2e3a7cea-224a-4f6f-bf8d-f1dcc454fb61"
      },
      "source": [
        "random.sample(ham_files, 5)"
      ],
      "execution_count": null,
      "outputs": [
        {
          "output_type": "execute_result",
          "data": {
            "text/plain": [
              "[PosixPath('enron1/ham/2212.2000-09-12.farmer.ham.txt'),\n",
              " PosixPath('enron1/ham/2482.2000-10-09.farmer.ham.txt'),\n",
              " PosixPath('enron1/ham/0876.2000-04-06.farmer.ham.txt'),\n",
              " PosixPath('enron1/ham/2409.2000-10-02.farmer.ham.txt'),\n",
              " PosixPath('enron1/ham/2814.2000-11-09.farmer.ham.txt')]"
            ]
          },
          "metadata": {
            "tags": []
          },
          "execution_count": 4
        }
      ]
    },
    {
      "cell_type": "code",
      "metadata": {
        "colab": {
          "base_uri": "https://localhost:8080/"
        },
        "id": "KfNVZoDnGI_w",
        "outputId": "8b168317-a5c4-427a-93ca-bd9e4f6d080c"
      },
      "source": [
        "random.sample(spam_files, 5)"
      ],
      "execution_count": null,
      "outputs": [
        {
          "output_type": "execute_result",
          "data": {
            "text/plain": [
              "[PosixPath('enron1/spam/5101.2005-08-29.GP.spam.txt'),\n",
              " PosixPath('enron1/spam/3184.2004-12-15.GP.spam.txt'),\n",
              " PosixPath('enron1/spam/3789.2005-02-10.GP.spam.txt'),\n",
              " PosixPath('enron1/spam/2490.2004-10-13.GP.spam.txt'),\n",
              " PosixPath('enron1/spam/5128.2005-09-02.GP.spam.txt')]"
            ]
          },
          "metadata": {
            "tags": []
          },
          "execution_count": 5
        }
      ]
    },
    {
      "cell_type": "code",
      "metadata": {
        "colab": {
          "base_uri": "https://localhost:8080/"
        },
        "id": "npvQk4wJ7kBM",
        "outputId": "5ab38b2c-7e94-4260-b034-ab76bdbd29fd"
      },
      "source": [
        "print(\"====== HAM =======\")\n",
        "print(random.choice(ham_files).read_text())\n",
        "print(\"=\" * 80)\n",
        "\n",
        "print(\"====== SPAM =======\")\n",
        "print(random.choice(spam_files).read_text())\n",
        "print(\"=\" * 80)"
      ],
      "execution_count": null,
      "outputs": [
        {
          "output_type": "stream",
          "text": [
            "====== HAM =======\n",
            "Subject: re : new production - sitara deals needed\n",
            "vance ,\n",
            "deal # 348616 has been created and entered in sitara for samson lone star\n",
            "limited . meter # 9847 is not yet available in sitara and i am awaiting\n",
            "additional information from you on hesco . thanks .\n",
            "bob\n",
            "vance l taylor\n",
            "07 / 28 / 2000 01 : 24 pm\n",
            "to : robert cotten / hou / ect @ ect\n",
            "cc : lisa hesse / hou / ect @ ect , trisha hughes / hou / ect @ ect , heidi\n",
            "withers / hou / ect @ ect , hillary mack / corp / enron @ enron , susan smith / hou / ect @ ect ,\n",
            "donald p reinhardt / hou / ect @ ect , melissa graves / hou / ect @ ect\n",
            "subject : new production - sitara deals needed\n",
            "bob ,\n",
            "the following production is now on - line and a ticket should be created and\n",
            "entered into sitara based on the following :\n",
            "counterparty meter volumes price period\n",
            "hesco gathering oil co 9835 600 mmbtu / d 96 % gas daily less $ 0 . 14\n",
            "6 / 10 - 7 / 31\n",
            "samson lone star limited 9845 3000 mmbtu / d 100 % gas daily less $ 0 . 10 7 / 21 -\n",
            "7 / 31\n",
            "winn exploration co . , inc . 9847 800 mmbtu / d 100 % gas daily less $ 0 . 13 7 / 25\n",
            "- 7 / 31\n",
            "( for fuel use less 3 . 35 % of del vols )\n",
            "fyi , susan has created and submitted committed reserves firm tickets for the\n",
            "remaining term of the deal beginning with the month of august . additionally ,\n",
            "these are producer svcs . deals and should be tracked in the im wellhead\n",
            "portfolio . . . attached to the gathering contract .\n",
            "thanks ,\n",
            "vlt\n",
            "x 3 - 6353\n",
            "================================================================================\n",
            "====== SPAM =======\n",
            "Subject: sample\n",
            "wind produce , story did . roll again serve , thing . past , might a ,\n",
            "notice type , symbol made . sell represent train , reach hour . grow\n",
            "together period control minute . self page piece valley . job ,\n",
            "brown supply river office . island body , saw . use black , these\n",
            "should oil care thus . rub contain space morning , still . about ,\n",
            "and first vowel perhaps . three food four .\n",
            "- -\n",
            "phone : 376 - 438 - 8748\n",
            "mobile : 815 - 398 - 3987\n",
            "email : walker . darryl @ leonlai . net\n",
            "\n",
            "================================================================================\n"
          ],
          "name": "stdout"
        }
      ]
    },
    {
      "cell_type": "markdown",
      "metadata": {
        "id": "Ustnt7aB8203"
      },
      "source": [
        "\n",
        "## Generate train test sets"
      ]
    },
    {
      "cell_type": "code",
      "metadata": {
        "id": "sZtwOusJ86uH"
      },
      "source": [
        "all_files = ham_files + spam_files\n",
        "labels = [0] * len(ham_files) + [1] * len(spam_files)\n",
        "all_texts = [o.read_text(encoding='latin-1') for o in all_files]"
      ],
      "execution_count": null,
      "outputs": []
    },
    {
      "cell_type": "code",
      "metadata": {
        "id": "B_51N9wV_AQ5",
        "colab": {
          "base_uri": "https://localhost:8080/"
        },
        "outputId": "9e97f0b0-a475-43ca-f49b-50dc39de20f5"
      },
      "source": [
        "from sklearn.model_selection import train_test_split\n",
        "splits = train_test_split(all_texts, labels, random_state=42, train_size=.8)\n",
        "train_texts, test_texts, train_labels, test_labels = splits\n",
        "\n",
        "print(\"Train samples:\", len(train_texts))\n",
        "print(\"Test samples:\", len(test_texts))"
      ],
      "execution_count": null,
      "outputs": [
        {
          "output_type": "stream",
          "text": [
            "Train samples: 4137\n",
            "Test samples: 1035\n"
          ],
          "name": "stdout"
        }
      ]
    },
    {
      "cell_type": "markdown",
      "metadata": {
        "id": "VHOfWfxc-yl8"
      },
      "source": [
        "## Vectorize the sentences 🔢\n",
        "\n",
        "We'll do this in three steps using the bag-of-words and Term Frequency - inverse document frequency (TF-iDF) model:\n",
        "\n",
        "1. Count how many times does a word occur in each message (Known as term frequency)\n",
        "2. Weigh the counts, so that frequent tokens get lower weight (inverse document frequency)\n",
        "3. Normalize the vectors to unit length, to abstract from the original text length (L2 norm)"
      ]
    },
    {
      "cell_type": "markdown",
      "metadata": {
        "id": "kggOOElwFvYL"
      },
      "source": [
        "### Bag of words (CountVectorizer)\n",
        "\n",
        "![](https://www.programmersought.com/images/947/0acb9279d17a1631bcfb154583cca443.JPEG)"
      ]
    },
    {
      "cell_type": "markdown",
      "metadata": {
        "id": "2rOgMSkKEx7O"
      },
      "source": [
        "![](data:image/png;base64,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)"
      ]
    },
    {
      "cell_type": "markdown",
      "metadata": {
        "id": "WDOvU0eBGsIP"
      },
      "source": [
        "With [Scikit-learn Count Vectorizer](https://scikit-learn.org/stable/modules/generated/sklearn.feature_extraction.text.CountVectorizer.html) we can perform all the preprocessing techniques we have just seen in the previous notebook with a single step."
      ]
    },
    {
      "cell_type": "code",
      "metadata": {
        "colab": {
          "base_uri": "https://localhost:8080/"
        },
        "id": "FD_uqSNy-2YH",
        "outputId": "4645a77c-6cd5-4309-e9b6-d987d7485250"
      },
      "source": [
        "from sklearn.feature_extraction.text import CountVectorizer\n",
        "\n",
        "count_vectorizer = CountVectorizer(stop_words='english')\n",
        "count_vectorizer.fit(train_texts)\n",
        "\n",
        "print(\"Vocabulary length:\", len(count_vectorizer.vocabulary_))"
      ],
      "execution_count": null,
      "outputs": [
        {
          "output_type": "stream",
          "text": [
            "Vocabulary length: 43746\n"
          ],
          "name": "stdout"
        }
      ]
    },
    {
      "cell_type": "code",
      "metadata": {
        "colab": {
          "base_uri": "https://localhost:8080/"
        },
        "id": "DDOxoRYq_8GN",
        "outputId": "093ad39b-c013-4591-890a-10b69076f2ea"
      },
      "source": [
        "import numpy as np\n",
        "\n",
        "train_bow = count_vectorizer.transform(train_texts)\n",
        "test_bow = count_vectorizer.transform(test_texts)\n",
        "\n",
        "print('Shape of Sparse Matrix:', train_bow.shape)\n",
        "print('Amount of non-zero occurences ', train_bow.nnz, 'out of', np.prod(train_bow.shape))"
      ],
      "execution_count": null,
      "outputs": [
        {
          "output_type": "stream",
          "text": [
            "Shape of Sparse Matrix: (4137, 43746)\n",
            "Amount of non-zero occurences  272144 out of 180977202\n"
          ],
          "name": "stdout"
        }
      ]
    },
    {
      "cell_type": "code",
      "metadata": {
        "colab": {
          "base_uri": "https://localhost:8080/"
        },
        "id": "BMW7MgmvIs8w",
        "outputId": "508cd9fd-6184-4b75-df0a-6cfbd04d4a45"
      },
      "source": [
        "rand_idx = random.randint(0, train_bow.shape[0])\n",
        "train_bow[rand_idx].toarray()"
      ],
      "execution_count": null,
      "outputs": [
        {
          "output_type": "execute_result",
          "data": {
            "text/plain": [
              "array([[0, 1, 0, ..., 0, 0, 0]])"
            ]
          },
          "metadata": {
            "tags": []
          },
          "execution_count": 11
        }
      ]
    },
    {
      "cell_type": "markdown",
      "metadata": {
        "id": "OgwzcgPFHXKc"
      },
      "source": [
        "After the counting, the term weighting and normalization can be done with TF-IDF, using scikit-learn's [TfidfVectorizer](https://scikit-learn.org/stable/modules/generated/sklearn.feature_extraction.text.TfidfTransformer.html#sklearn.feature_extraction.text.TfidfTransformer)."
      ]
    },
    {
      "cell_type": "markdown",
      "metadata": {
        "id": "qRyqNCWBH5Cb"
      },
      "source": [
        "### TF-idf\n",
        "\n",
        "> TF-IDF stands for term frequency-inverse document frequency, and the tf-idf weight is a weight often used in information retrieval and text mining. This weight is a statistical measure used to evaluate how important a word is to a document in a collection or corpus. The importance increases proportionally to the number of times a word appears in the document but is offset by the frequency of the word in the corpus.\n",
        "\n",
        "- **Term Frequency (TF)**, which measures how frequently a term occurs in a document. Since every document is different in length, it is possible that a term would appear much more times in long documents than shorter ones. Thus, the term frequency is often divided by the document length\n",
        "\n",
        "$ TF(t) = \\frac{Number\\ of\\ times\\ term\\ t\\ appears\\ in\\ a\\ document}{Total\\ number\\ of\\ terms\\ in\\ the\\ document} $\n",
        "\n",
        "- **Inverse Document Frequency (IDF)***, which measures how important a term is. While computing TF, all terms are considered equally important. However it is known that certain terms, such as \"is\", \"of\", and \"that\", may appear a lot of times but have little importance. Thus we need to weigh down the frequent terms while scale up the rare ones, by computing the following:\n",
        "\n",
        "$ IDF(t) = log \\frac{Total\\ number\\ of\\ documents}{Number\\ of\\ documents\\ with\\ term\\ t} $\n",
        "\n",
        "![](https://miro.medium.com/max/3604/1*qQgnyPLDIkUmeZKN2_ZWbQ.png)\n"
      ]
    },
    {
      "cell_type": "code",
      "metadata": {
        "id": "a4Nl2tbSKTJE"
      },
      "source": [
        "from sklearn.feature_extraction.text import TfidfTransformer\n",
        "\n",
        "tfidf = TfidfTransformer()\n",
        "tfidf.fit(train_bow)\n",
        "\n",
        "tfidf_train = tfidf.transform(train_bow)\n",
        "tfidf_test = tfidf.transform(test_bow)"
      ],
      "execution_count": null,
      "outputs": []
    },
    {
      "cell_type": "markdown",
      "metadata": {
        "id": "Spz29nmYLUU8"
      },
      "source": [
        "## Train a model"
      ]
    },
    {
      "cell_type": "markdown",
      "metadata": {
        "id": "vvY_cYp5S6qz"
      },
      "source": [
        "![](http://media5.datahacker.rs/2021/01/44.jpg)"
      ]
    },
    {
      "cell_type": "code",
      "metadata": {
        "colab": {
          "base_uri": "https://localhost:8080/"
        },
        "id": "zXrVjnFSLV16",
        "outputId": "eb480652-18e6-45cb-c307-61287a61c0a1"
      },
      "source": [
        "from sklearn.linear_model import LogisticRegression\n",
        "\n",
        "lr = LogisticRegression()\n",
        "lr.fit(tfidf_train, train_labels)"
      ],
      "execution_count": null,
      "outputs": [
        {
          "output_type": "execute_result",
          "data": {
            "text/plain": [
              "LogisticRegression(C=1.0, class_weight=None, dual=False, fit_intercept=True,\n",
              "                   intercept_scaling=1, l1_ratio=None, max_iter=100,\n",
              "                   multi_class='auto', n_jobs=None, penalty='l2',\n",
              "                   random_state=None, solver='lbfgs', tol=0.0001, verbose=0,\n",
              "                   warm_start=False)"
            ]
          },
          "metadata": {
            "tags": []
          },
          "execution_count": 13
        }
      ]
    },
    {
      "cell_type": "markdown",
      "metadata": {
        "id": "GjiVWDxKZxM4"
      },
      "source": [
        "![](https://excelrcom.b-cdn.net/assets/admin/ckfinder/userfiles/images/2020%20uploads/11/1.PNG)"
      ]
    },
    {
      "cell_type": "markdown",
      "metadata": {
        "id": "oQ3RhMOSMhGX"
      },
      "source": [
        "## Evaluate the model 🎯"
      ]
    },
    {
      "cell_type": "markdown",
      "metadata": {
        "id": "forced-community"
      },
      "source": [
        "\n",
        "Metrics are numbers that describe how good your model is. In this particular case, within binary classification framework,  we only just have two classes: positive and negative. \n",
        "\n",
        "Typically the metrics values will range from 0 to 1 where higher is better.\n",
        "\n",
        "To understand the evaluation metrics is really important to know and feel comfortable with the following terminology:\n",
        "\n",
        "- True Positive (TP)\n",
        "- True Negative (TN)\n",
        "- False Positive (FP)\n",
        "- False Negative (FN)\n",
        "\n",
        "For example, if the condition is a disease, “true positive” means “correctly diagnosed as diseased”, “false positive” means “incorrectly diagnosed as diseased”, “true negative” means “correctly diagnosed as not diseased”, and “false negative” means “incorrectly diagnosed as not diseased”. Thus, if a test's sensitivity is 98% and its specificity is 92%, its rate of false negatives is 2% and its rate of false positives is 8%. [Reference](https://en.wikipedia.org/wiki/Sensitivity_and_specificity)\n",
        "\n",
        "![](https://upload.wikimedia.org/wikipedia/commons/thumb/e/e7/Sensitivity_and_specificity.svg/342px-Sensitivity_and_specificity.svg.png)\n",
        "\n",
        "In my way of thinking, a single metric to maximize is better than having multiple metrics. Using a single metric allows me to easily compare models, thus, iterate faster. \n",
        "\n",
        "In the following lines, I explain which metrics may be useful when dealing with a binary classification along with its associated problems.\n",
        "\n",
        "### Recall\n",
        "\n",
        "$Recall = \\frac{TP}{TP + FN}$\n",
        "\n",
        "A model with a perfect recall is the one that does not have any False Negative. But with this metric, we have the risk of not taking into account the False Positives.\n",
        "\n",
        "### Precision\n",
        "\n",
        "$Precision = \\frac{TP}{TP + FP}$\n",
        "\n",
        "Intuitively speaking, if we have a precise model when it catches all True Positive examples and does not make any False Positive prediction. Here again, we are not taking into account a possible source of errors, the False Negatives.\n",
        "\n",
        "### F1-Score\n",
        "\n",
        "As a rule of thumb, if the cost of having False Negative is high (for example, incorrectly diagnosed as healthy), we want to increase the model recall.\n",
        "\n",
        "On the other hand, if the cost of having False Positive (marking a video as illegal when it is not) is high, then we want to increase the model precision.\n",
        "\n",
        "F1-score can help us keep a balance between those metrics.\n",
        "\n",
        "This metric is a kind of a weighted average between the recall and the precision. \n",
        "\n",
        "$F1 Score = 2 \\times \\frac{precision \\cdot recall}{precision + recall}$ \n",
        "\n",
        "### AUROC\n",
        "\n",
        "This metric compares the Recall vs the False Positive Rate\n",
        "\n",
        "![](https://glassboxmedicine.files.wordpress.com/2019/02/roc-curve-v2.png?w=576)\n",
        "\n",
        "Area Under the Receiver Operating Characteristic curve (AUROC).\n",
        "\n",
        "As more area, we have under the curve, more distance between True Positives and True Negatives.\n",
        "\n",
        "Although F1 scores seems a good metric for this problem, AUROC is better. For F1 score to be good (close to 1), both precision and recall should be close to 1 as well. In consequence, when dealing with an imbalance between Positive and Negative samples, we should prioritize F1 in front of AUROC.\n"
      ]
    },
    {
      "cell_type": "code",
      "metadata": {
        "id": "AySvXkQmLV-J"
      },
      "source": [
        "train_predictions = lr.predict(tfidf_train)\n",
        "test_predictions = lr.predict(tfidf_test)"
      ],
      "execution_count": null,
      "outputs": []
    },
    {
      "cell_type": "code",
      "metadata": {
        "colab": {
          "base_uri": "https://localhost:8080/"
        },
        "id": "p7fYcxhzLih9",
        "outputId": "7bc3cec3-1559-4c56-9168-68928736de2c"
      },
      "source": [
        "from sklearn.metrics import classification_report\n",
        "\n",
        "print(\"=== Train ===\")\n",
        "print(classification_report(train_labels, train_predictions))\n",
        "\n",
        "print(\"=== Test ===\")\n",
        "print(classification_report(test_labels, test_predictions))"
      ],
      "execution_count": null,
      "outputs": [
        {
          "output_type": "stream",
          "text": [
            "=== Train ===\n",
            "              precision    recall  f1-score   support\n",
            "\n",
            "           0       1.00      0.99      1.00      2923\n",
            "           1       0.99      1.00      0.99      1214\n",
            "\n",
            "    accuracy                           1.00      4137\n",
            "   macro avg       0.99      1.00      0.99      4137\n",
            "weighted avg       1.00      1.00      1.00      4137\n",
            "\n",
            "=== Test ===\n",
            "              precision    recall  f1-score   support\n",
            "\n",
            "           0       1.00      0.98      0.99       749\n",
            "           1       0.96      0.99      0.97       286\n",
            "\n",
            "    accuracy                           0.98      1035\n",
            "   macro avg       0.98      0.99      0.98      1035\n",
            "weighted avg       0.98      0.98      0.98      1035\n",
            "\n"
          ],
          "name": "stdout"
        }
      ]
    },
    {
      "cell_type": "code",
      "metadata": {
        "colab": {
          "base_uri": "https://localhost:8080/",
          "height": 279
        },
        "id": "AXp1S-_zLy9z",
        "outputId": "945914cd-43d8-4aa0-82c7-98be105fe3cc"
      },
      "source": [
        "from sklearn.metrics import plot_confusion_matrix\n",
        "\n",
        "plot_confusion_matrix(lr, tfidf_test, test_labels, normalize='true');"
      ],
      "execution_count": null,
      "outputs": [
        {
          "output_type": "display_data",
          "data": {
            "image/png": "[encoded data removed]",
            "text/plain": [
              "<Figure size 432x288 with 2 Axes>"
            ]
          },
          "metadata": {
            "tags": [],
            "needs_background": "light"
          }
        }
      ]
    },
    {
      "cell_type": "code",
      "metadata": {
        "cellView": "form",
        "id": "3_ktWC9uMnzh"
      },
      "source": [
        "#@markdown ## Inference with your data\n",
        "\n",
        "email = 'Subject: free course of traiding. Never loose money again $$$!'  #@param {type: \"string\"}"
      ],
      "execution_count": null,
      "outputs": []
    },
    {
      "cell_type": "code",
      "metadata": {
        "colab": {
          "base_uri": "https://localhost:8080/"
        },
        "id": "INc3OjTDMzx5",
        "outputId": "cfc17d0e-853b-4b28-89a7-e445125e5e22"
      },
      "source": [
        "spam_prob = lr.predict_proba(tfidf.transform(count_vectorizer.transform([email])))\n",
        "print(f\"Probability of spam is {int(spam_prob[0, 1] * 100)}%\")"
      ],
      "execution_count": null,
      "outputs": [
        {
          "output_type": "stream",
          "text": [
            "Probability of spam is 82%\n"
          ],
          "name": "stdout"
        }
      ]
    }
  ]
}